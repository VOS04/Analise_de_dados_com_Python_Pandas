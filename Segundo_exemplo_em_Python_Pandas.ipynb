{
  "nbformat": 4,
  "nbformat_minor": 0,
  "metadata": {
    "colab": {
      "provenance": [],
      "include_colab_link": true
    },
    "kernelspec": {
      "name": "python3",
      "display_name": "Python 3"
    },
    "language_info": {
      "name": "python"
    }
  },
  "cells": [
    {
      "cell_type": "markdown",
      "metadata": {
        "id": "view-in-github",
        "colab_type": "text"
      },
      "source": [
        "<a href=\"https://colab.research.google.com/github/VOS04/Analise_de_dados_com_Python_Pandas/blob/main/Segundo_exemplo_em_Python_Pandas.ipynb\" target=\"_parent\"><img src=\"https://colab.research.google.com/assets/colab-badge.svg\" alt=\"Open In Colab\"/></a>"
      ]
    },
    {
      "cell_type": "markdown",
      "source": [
        "**Segundo exemplo de manipulação de dados usando Python Pandas**\n",
        "Veremos inserção de dados, remoção de colunas, merge, gráficos\n",
        "\n",
        "Autor: Valdeno de Oliveira Santos\n",
        "\n",
        "Data: 9 e 10 de fevereiro de 2023"
      ],
      "metadata": {
        "id": "64iF_bLARAYW"
      }
    },
    {
      "cell_type": "code",
      "execution_count": 2,
      "metadata": {
        "id": "zFtO8IbHQAO4"
      },
      "outputs": [],
      "source": [
        "# Importando biblioteca pandas no Python\n",
        "import pandas as pd"
      ]
    },
    {
      "cell_type": "code",
      "source": [
        "combustiveis_df = pd.read_excel(\"ca-2021-02.xlsx\")\n",
        "display(combustiveis_df.head())"
      ],
      "metadata": {
        "id": "qs9xc0yESq3M"
      },
      "execution_count": null,
      "outputs": []
    },
    {
      "cell_type": "code",
      "source": [
        "#Inserção simples de dado\n",
        "combustiveis_df['Ativo'] = True\n",
        "\n",
        "display(combustiveis_df.head())"
      ],
      "metadata": {
        "id": "ceZHMbxSTDFI"
      },
      "execution_count": null,
      "outputs": []
    },
    {
      "cell_type": "code",
      "source": [
        "# Criar uma coluna \"Obs\" que tenha nela escrito \"MELHOR CIDADE\" quando a coluna Municipio for igual a SAO PAULO\n",
        "combustiveis_df['Obs'] = [\"MELHOR CIDADE\" if municipio == 'SAO PAULO' else None for municipio in combustiveis_df['Municipio']]\n",
        "display(combustiveis_df.loc[combustiveis_df['Municipio'].isin(['SAO PAULO','INDAIATUBA', 'CAMPINAS', 'SALTO']), ['Municipio', 'Obs']])\n"
      ],
      "metadata": {
        "id": "h3RXhZxnT8GF"
      },
      "execution_count": null,
      "outputs": []
    },
    {
      "cell_type": "code",
      "source": [
        "# (por Leandro Rodrigues)\n",
        "# como preencher uma coluna 'Valor de Venda - Status' que verifica o seguinte:\n",
        "# se o valor de venda for maior que 6,5 reais, ele fala que tá Caro..caso contrário, está barato\n",
        "import numpy as np\n",
        "\n",
        "combustiveis_df['Status do Valor de Venda'] = np.where(combustiveis_df['Valor de Venda'] > 6.5, 'Caro', 'Barato')\n",
        "display(combustiveis_df[['Revenda', 'Valor de Venda', 'Status do Valor de Venda']])"
      ],
      "metadata": {
        "id": "BB6UcXpwV8K1"
      },
      "execution_count": null,
      "outputs": []
    },
    {
      "cell_type": "code",
      "source": [
        "# Calcular postos de gasolina por habitante temos na amostragem de \n",
        "# combustiveis nov/2021\n",
        "\n",
        "num_habitantes_df = pd.read_csv(\"ibge_num_habitantes_estimado.csv\", sep=\";\")\n",
        "num_habitantes_df.rename(columns={\"Estado\":\"Estado - Sigla\"}, inplace=True)\n",
        "display(num_habitantes_df)\n"
      ],
      "metadata": {
        "id": "1zJrcclcZe_o"
      },
      "execution_count": null,
      "outputs": []
    },
    {
      "cell_type": "code",
      "source": [
        "# Faz um MERGE dos dois dataframes\n",
        "colunas = ['Municipio', 'Estado - Sigla']\n",
        "merge_df = combustiveis_df.merge(num_habitantes_df, how=\"inner\", on=colunas)\n",
        "display(merge_df)\n",
        "print(merge_df.info())\n"
      ],
      "metadata": {
        "id": "itOGU5FwgRfP"
      },
      "execution_count": null,
      "outputs": []
    },
    {
      "cell_type": "code",
      "source": [
        "#Destruir coluna completamente vazia (todas as linhas são nulas)\n",
        "merge_df.dropna(axis='columns', inplace=True)\n",
        "print(merge_df.info())"
      ],
      "metadata": {
        "id": "pfa6NpE7qA-3"
      },
      "execution_count": null,
      "outputs": []
    },
    {
      "cell_type": "code",
      "source": [
        "colunas=['Regiao - Sigla', 'Nome da Rua', 'Numero Rua', \n",
        "         'Bairro', 'Cep', 'Produto', 'Data da Coleta', 'Valor de Venda',\n",
        "         'Unidade de Medida', 'Bandeira', 'Ativo', 'Status do Valor de Venda']\n",
        "merge_df.drop(labels=colunas, axis=1, inplace=True)\n",
        "print(merge_df.info())"
      ],
      "metadata": {
        "id": "YTLRuwYDsCAf"
      },
      "execution_count": null,
      "outputs": []
    },
    {
      "cell_type": "code",
      "source": [
        "display(merge_df.head(100))"
      ],
      "metadata": {
        "id": "7HiE4lDQtrfX"
      },
      "execution_count": null,
      "outputs": []
    },
    {
      "cell_type": "code",
      "source": [
        "# Remover a linhas duplicadas\n",
        "merge_df.drop_duplicates(inplace=True)\n",
        "display(merge_df.head(100))"
      ],
      "metadata": {
        "id": "f-Ptg3-GugZT"
      },
      "execution_count": null,
      "outputs": []
    },
    {
      "cell_type": "code",
      "source": [
        "#AQUI O FINAL ESTÁ COM PROBLEMA\n",
        "\n",
        "#Agrupar e contar quantos postos tem na cidade..\n",
        "postos_por_municipio_df = merge_df.groupby(by=['Estado - Sigla', 'Municipio', 'NumHabitantes2021']).count()\n",
        "postos_por_municipio_df.reset_index(inplace=True)\n",
        "#display(postos_por_municipio_df.info())\n",
        "postos_por_municipio_df.drop('CNPJ da Revenda', axis=1, inplace=True)\n",
        "postos_por_municipio_df.rename(columns={\"Revenda\": \"NumPostos\"}, inplace=True)\n",
        "\n",
        "postos_por_municipio_df['PostosPorHabitante'] = postos_por_municipio_df['NumPostos'] / postos_por_municipio_df['NumHabitantes2021']\n",
        "#display(postos_por_municipio_df.info())\n",
        "display(postos_por_municipio_df)\n"
      ],
      "metadata": {
        "id": "XhbsvtYtvCNP"
      },
      "execution_count": null,
      "outputs": []
    },
    {
      "cell_type": "code",
      "source": [
        "#Exemplo para gerar grafico com a blibioteca matplotlib\n",
        "import matplotlib.pyplot as plt\n",
        "plt.hist(combustiveis_df['Valor de Venda'])\n",
        "\n",
        "# Adicionando titulo no gráfico\n",
        "plt.title('Valor dos combustiveis - Nov/2021')\n",
        "\n",
        "#adicionando rotulos ao eixos\n",
        "plt.xlabel('Preço em Reais')\n",
        "plt.ylabel('Quantidade de Coletas')\n",
        "\n",
        "# Traça a linha vermelha tracejada com o preço médio\n",
        "# linestyle='dashed' tipo de linha que voce vai usar \n",
        "# linewidth=1 largura da linha de acordo coom o valor \n",
        "plt.axvline(combustiveis_df['Valor de Venda'].mean(), color='red', linestyle='dashed', linewidth=1)\n",
        "\n",
        "\n",
        "\n",
        "#Plota o grafico no caso do uso em outro hambiente de execusão IDE para mostrar o grafico.\n",
        "#Obs: Usar o comando sempre no final.\n",
        "plt.show()"
      ],
      "metadata": {
        "id": "V4TIvC0ugpbm"
      },
      "execution_count": null,
      "outputs": []
    },
    {
      "cell_type": "code",
      "source": [
        "#Segundo gráfico mostrando a vizualisação do consumo médio\n",
        "c_mean = combustiveis_df['Valor de Venda'].groupby(by=combustiveis_df['Produto']).mean()\n",
        "display(c_mean)"
      ],
      "metadata": {
        "id": "wWFudQSMohtN"
      },
      "execution_count": null,
      "outputs": []
    },
    {
      "cell_type": "code",
      "source": [
        "import seaborn as sns\n",
        "\n",
        "# definindo a área do gráfico\n",
        "plt.figure(figsize=(7,5))\n",
        "\n",
        "#Plotar o gráfico\n",
        "c_mean.plot(\n",
        "    kind='barh', # tipo de barra, no caso desse exemplo barras horizontais\n",
        "    xlabel='Tipo de Combustível', # Rotulo do eixo X\n",
        "    ylabel='Preço reais/litros', # Rotulo do eixo Y\n",
        "    color='red') # Cor das barras\n",
        "alpha=0.3\n",
        "\n",
        "plt.grid() \n",
        "\n",
        "#Remover as linhas superior e lateral direita do gráfico \n",
        "sns.despine()\n",
        "\n",
        "plt.show()\n"
      ],
      "metadata": {
        "id": "xa0-pa_wpbIo"
      },
      "execution_count": null,
      "outputs": []
    },
    {
      "cell_type": "code",
      "source": [
        "# Cria uma planilha do DataFrame \n",
        "display(c_mean)\n",
        "\n",
        "excel = 'por_litros.xlsx'\n",
        "c_mean.to_excel(excel, 'Sumário')"
      ],
      "metadata": {
        "id": "H7iuR6SB0j5D"
      },
      "execution_count": null,
      "outputs": []
    },
    {
      "cell_type": "code",
      "source": [
        "# Vamos perssonalizar a planilha Excel...\n",
        "\n",
        "from openpyxl import load_workbook\n",
        "from openpyxl.styles import PatternFill, Font, Color, Alignment\n",
        "\n",
        "# abri o excel no openpyxl\n",
        "wb = load_workbook(excel) # wb = Workbook\n",
        "\n",
        "# Pega a planilha certa usando o sheet Name (Nome da planilha).\n",
        "ws = wb['Sumário'] # Work sheet significa planilha atual, ou planilha ativa, de trabalho.\n",
        "\n",
        "# Pintar o cabeçalho da tabela de cinza\n",
        "cinza = PatternFill('solid', fgColor='909090') # função usada para pintar celula\n",
        "coords = ['A1', 'B1']\n",
        "\n",
        "for coord in coords:\n",
        "  ws[coord].fill = cinza\n",
        "\n",
        "# Onde o preço do combustível for maior ou igual a (6,5) pinta a fonte \n",
        "# de vermelho e deixa negrito.\n",
        "\n",
        "MAX_ROW = ws.max_row\n",
        "\n",
        "num_linha =2\n",
        "\n",
        "while (num_linha <= MAX_ROW):\n",
        "  coord = 'B'+ str(num_linha) # faz a conversão de um valor inteiro em estring\n",
        "# Condição para verificar e efetuar a mudança na celula\n",
        "  if ws[coord].value >= 6.5:\n",
        "    ws[coord].font = Font(bold = True, color='FF0000')\n",
        "\n",
        "  num_linha = num_linha +1\n",
        "\n",
        "\n",
        "\n",
        "# Usado para salvar o excel\n",
        "wb.save(excel)\n"
      ],
      "metadata": {
        "id": "tyu5TRS3zg-q"
      },
      "execution_count": 51,
      "outputs": []
    }
  ]
}