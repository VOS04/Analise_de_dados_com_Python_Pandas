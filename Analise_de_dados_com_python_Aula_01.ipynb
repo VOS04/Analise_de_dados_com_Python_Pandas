{
  "nbformat": 4,
  "nbformat_minor": 0,
  "metadata": {
    "colab": {
      "provenance": [],
      "authorship_tag": "ABX9TyNwDi9wB2Im+N9sgNudKYkc",
      "include_colab_link": true
    },
    "kernelspec": {
      "name": "python3",
      "display_name": "Python 3"
    },
    "language_info": {
      "name": "python"
    }
  },
  "cells": [
    {
      "cell_type": "markdown",
      "metadata": {
        "id": "view-in-github",
        "colab_type": "text"
      },
      "source": [
        "<a href=\"https://colab.research.google.com/github/VOS04/Analise_de_dados_com_Python_Pandas/blob/main/Analise_de_dados_com_python_Aula_01.ipynb\" target=\"_parent\"><img src=\"https://colab.research.google.com/assets/colab-badge.svg\" alt=\"Open In Colab\"/></a>"
      ]
    },
    {
      "cell_type": "markdown",
      "source": [
        "Primeiro exemplo de manupulação de dados usando o Pandas no Python\n",
        "\n",
        "Autor: Valdeno de Oliveira Santos\n",
        "\n",
        "Data: 08/02/2023"
      ],
      "metadata": {
        "id": "3f0DRIvNUhN1"
      }
    },
    {
      "cell_type": "code",
      "execution_count": null,
      "metadata": {
        "id": "kCNZNrY_C1Ba"
      },
      "outputs": [],
      "source": [
        "import pandas as pd \n",
        "# Faz a importação do arquivo e instancia ele a variavél \"combustivel_df\"\n",
        "combustiveis_df = pd.read_csv(\"precos-semestrais-ca-2022-01.csv\")"
      ]
    },
    {
      "cell_type": "code",
      "source": [
        "#Mostras os dados do arquivo csv\n",
        "print(combustiveis_df)"
      ],
      "metadata": {
        "id": "04LFrVpwBG6A"
      },
      "execution_count": null,
      "outputs": []
    },
    {
      "cell_type": "code",
      "source": [
        "#Mostras os dados de forma organizada\n",
        "display(combustiveis_df)"
      ],
      "metadata": {
        "id": "boHcoIavCJfx"
      },
      "execution_count": null,
      "outputs": []
    },
    {
      "cell_type": "code",
      "source": [
        "#Exibe as primeiras 5 linhas\n",
        "display(combustiveis_df.head())"
      ],
      "metadata": {
        "id": "rTftQw9dFHnn"
      },
      "execution_count": null,
      "outputs": []
    },
    {
      "cell_type": "code",
      "source": [
        "# Exibe as 15 primeiras linhas\n",
        "display(combustiveis_df.head(15))"
      ],
      "metadata": {
        "id": "Iiz_tU4UFy6v"
      },
      "execution_count": null,
      "outputs": []
    },
    {
      "cell_type": "code",
      "source": [
        "#Comando Dataframe.shape mostra a quantidade de linhas e colunas. exemplo mostras so linhas =[0] colunas [1]\n",
        "print(combustiveis_df.shape)"
      ],
      "metadata": {
        "id": "K0Rr_9NoHsS_"
      },
      "execution_count": null,
      "outputs": []
    },
    {
      "cell_type": "code",
      "source": [
        "# Dataframe.info informa quais as colunas e quais tipo de dados nessas colunas \n",
        "print(combustiveis_df.info())"
      ],
      "metadata": {
        "id": "u_dAHljFJ1fH"
      },
      "execution_count": null,
      "outputs": []
    },
    {
      "cell_type": "code",
      "source": [
        "# a função DataFrame.describe() mostras as estaticas mais basicas que a gente precisa\n",
        "print(combustiveis_df.describe())"
      ],
      "metadata": {
        "id": "AEZrfQNSUTvy"
      },
      "execution_count": null,
      "outputs": []
    },
    {
      "cell_type": "code",
      "source": [
        "# Filtrar apenas uma coluna\n",
        "display(combustiveis_df['Revenda'])"
      ],
      "metadata": {
        "id": "Ha_loXFZW8RB"
      },
      "execution_count": null,
      "outputs": []
    },
    {
      "cell_type": "code",
      "source": [
        "# Aqui criamos um novo DataFrame apenas com a coluna que eu quero \n",
        "ca_df = combustiveis_df[['Revenda','Municipio','Valor de Venda','Produto']]\n",
        "display(ca_df)"
      ],
      "metadata": {
        "id": "_EDbyAzeZ5no"
      },
      "execution_count": null,
      "outputs": []
    },
    {
      "cell_type": "code",
      "source": [
        "# Usado para filtar por linhas, nesse exemplo mostra apenas a 4 linha\n",
        "display(ca_df.loc[4])"
      ],
      "metadata": {
        "id": "iqk8VDI3bUR5"
      },
      "execution_count": null,
      "outputs": []
    },
    {
      "cell_type": "code",
      "source": [
        "# Exibe da 10a. linha até a 20a.\n",
        "display(ca_df.loc[10:20])"
      ],
      "metadata": {
        "id": "bnaapfrZdXU9"
      },
      "execution_count": null,
      "outputs": []
    },
    {
      "cell_type": "code",
      "source": [
        "# Criar um DataFrame gas_df contendo apenas as 4 colunas(Revenda, Municipio, Produtos, Valor de Venda).\n",
        "# Somente com combustivel sendo Gasolinha e exibir na tela.\n",
        "gas_df = ca_df.loc[ca_df['Produto']=='GASOLINA']\n",
        "display(gas_df)"
      ],
      "metadata": {
        "id": "P8tOFnbveMcA"
      },
      "execution_count": null,
      "outputs": []
    },
    {
      "cell_type": "code",
      "source": [
        "# Exibe qual é o posto e municipio da gasolina mais cara do país\n",
        "display(gas_df[['Revenda','Municipio','Produto','Valor de Compra']].max())"
      ],
      "metadata": {
        "id": "I5n8-PK_hh43"
      },
      "execution_count": null,
      "outputs": []
    },
    {
      "cell_type": "code",
      "source": [
        "# DataFrame.loc[] com mútiplas condições para filtragem por exemplo:\n",
        "# Quais são os preços, postos, do Etanol na cidade de (INDAIATUBA).\n",
        "# No exemplo é usado a condição end para \"unir\" as duas condições.\n",
        "# No exemplo é criado um novo dataFrame chamado etanol_indaiatuba_df que vai receber os valores de ca_df.loc.\n",
        "# Usando o função sort_values os valores da coluna serão ordenado do menor pra o maior, a funcão inplace permite que a ordenação seja guardada no dataframe.\n",
        "\n",
        "etanol_indaiatuba_df = ca_df.loc[(ca_df['Produto']=='ETANOL') & (ca_df['Municipio']=='INDAIATUBA')]\n",
        "etanol_indaiatuba_df.sort_values(by='Valor de Venda',inplace=True)\n",
        "display(etanol_indaiatuba_df)"
      ],
      "metadata": {
        "id": "sb7OHIEMJUlU"
      },
      "execution_count": null,
      "outputs": []
    },
    {
      "cell_type": "code",
      "source": [
        "# Mostrar qual a média de preços dos combustíveis GASOLINA E GASOLINA ADITIVADA do bairro MOOCA em SÃO PAULO\n",
        "# Formas de buscar os dois produtos  ((combustiveis_df['Produto']=='GASOLINA') | (combustiveis_df['Produto']=='GASOLINA ADITIVADA')) \n",
        "# usando a lógica ou e a lógica armazenada dentro de um parentese\n",
        "# conforme exemplo citado\n",
        "display(combustiveis_df.loc[(combustiveis_df['Bairro']=='MOOCA') & \n",
        "                            (combustiveis_df['Municipio']=='SAO PAULO') & \n",
        "                            ((combustiveis_df['Produto']=='GASOLINA') | (combustiveis_df['Produto']=='GASOLINA ADITIVADA'))\n",
        "                            ,['Valor de Venda']].mean())"
      ],
      "metadata": {
        "id": "C76KUiyKPrO4"
      },
      "execution_count": null,
      "outputs": []
    },
    {
      "cell_type": "code",
      "source": [
        "# Como mostrar média de valor de venda POR COMBUSTÍVEL Brasil todo.\n",
        "media_por_combustivel_df = ca_df[['Produto','Valor de Venda']].groupby(by='Produto').mean()\n",
        "display(media_por_combustivel_df)\n"
      ],
      "metadata": {
        "id": "nuXfG8ixfq11"
      },
      "execution_count": null,
      "outputs": []
    },
    {
      "cell_type": "code",
      "source": [
        "# Adicionar uma coluna de valor booleano chamada \"Ativo\"\n",
        "#que, por padrão, vai ser True para TODAS as linhas\n",
        "combustiveis_df['Ativo']= True\n",
        "print(combustiveis_df.info())\n",
        "display(combustiveis_df.head(10))"
      ],
      "metadata": {
        "id": "TmKUIkb9j1uW"
      },
      "execution_count": null,
      "outputs": []
    },
    {
      "cell_type": "code",
      "source": [
        "#Criar uma coluna nova chamada \"Obs\"\n",
        "#que preencha automaticamente \"MELHOR CIDADE\"\n",
        "#quando o municipio for INDAIATUBA, SP...\n",
        "\n",
        "#combustiveis_df['Obs']= 'MELHOR CIDADE' if combustiveis_df['Municipio'] == 'INDAIATUBA' else \"\"\n",
        "#amanha a solução"
      ],
      "metadata": {
        "id": "FbWaz5ZRmb-y"
      },
      "execution_count": null,
      "outputs": []
    },
    {
      "cell_type": "code",
      "source": [
        "# função para exporta o arquivo para o execel.\n",
        "# pandas.DataFrame.to_csv\n",
        "# pandas.DataFrame.to_excel\n",
        "# caso queira eliminar o index é so atribuir o index = False\n",
        "etanol_indaiatuba_df.to_excel('etanol_indaiatuba.xlsx',sheet_name='indaiatuba', index= False)\n"
      ],
      "metadata": {
        "id": "XIrLQW79ngPU"
      },
      "execution_count": null,
      "outputs": []
    }
  ]
}