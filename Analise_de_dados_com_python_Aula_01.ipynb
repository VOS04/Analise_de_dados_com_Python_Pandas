{
  "nbformat": 4,
  "nbformat_minor": 0,
  "metadata": {
    "colab": {
      "provenance": [],
      "authorship_tag": "ABX9TyO8CNpuTTXIfMIz1D+xc+Dl",
      "include_colab_link": true
    },
    "kernelspec": {
      "name": "python3",
      "display_name": "Python 3"
    },
    "language_info": {
      "name": "python"
    }
  },
  "cells": [
    {
      "cell_type": "markdown",
      "metadata": {
        "id": "view-in-github",
        "colab_type": "text"
      },
      "source": [
        "<a href=\"https://colab.research.google.com/github/VOS04/Analise_de_dados_com_Python_Pandas/blob/main/Analise_de_dados_com_python_Aula_01.ipynb\" target=\"_parent\"><img src=\"https://colab.research.google.com/assets/colab-badge.svg\" alt=\"Open In Colab\"/></a>"
      ]
    },
    {
      "cell_type": "markdown",
      "source": [
        "Primeiro exemplo de manupulação de dados usando o Pandas no Python\n",
        "\n",
        "Autor: Valdeno de Oliveira Santos\n",
        "\n",
        "Data: 07/02/2023"
      ],
      "metadata": {
        "id": "3f0DRIvNUhN1"
      }
    },
    {
      "cell_type": "code",
      "execution_count": null,
      "metadata": {
        "id": "kCNZNrY_C1Ba"
      },
      "outputs": [],
      "source": [
        "import pandas as pd \n",
        "# Faz a importação do arquivo e instancia ele a variavél \"combustivel_df\"\n",
        "combustiveis_df = pd.read_csv(\"precos-semestrais-ca-2022-01.csv\")"
      ]
    },
    {
      "cell_type": "code",
      "source": [
        "#Mostras os dados do arquivo csv\n",
        "print(combustiveis_df)"
      ],
      "metadata": {
        "id": "04LFrVpwBG6A"
      },
      "execution_count": null,
      "outputs": []
    },
    {
      "cell_type": "code",
      "source": [
        "#Mostras os dados de forma organizada\n",
        "display(combustiveis_df)"
      ],
      "metadata": {
        "id": "boHcoIavCJfx"
      },
      "execution_count": null,
      "outputs": []
    },
    {
      "cell_type": "code",
      "source": [
        "#Exibe as primeiras 5 linhas\n",
        "display(combustiveis_df.head())"
      ],
      "metadata": {
        "id": "rTftQw9dFHnn"
      },
      "execution_count": null,
      "outputs": []
    },
    {
      "cell_type": "code",
      "source": [
        "# Exibe as 15 primeiras linhas\n",
        "display(combustiveis_df.head(15))"
      ],
      "metadata": {
        "id": "Iiz_tU4UFy6v"
      },
      "execution_count": null,
      "outputs": []
    },
    {
      "cell_type": "code",
      "source": [
        "#Comando Dataframe.shape mostra a quantidade de linhas e colunas. exemplo mostras so linhas =[0] colunas [1]\n",
        "print(combustiveis_df.shape)"
      ],
      "metadata": {
        "id": "K0Rr_9NoHsS_"
      },
      "execution_count": null,
      "outputs": []
    },
    {
      "cell_type": "code",
      "source": [
        "# Dataframe.info informa quais as colunas e quais tipo de dados nessas colunas \n",
        "print(combustiveis_df.info())"
      ],
      "metadata": {
        "id": "u_dAHljFJ1fH"
      },
      "execution_count": null,
      "outputs": []
    },
    {
      "cell_type": "code",
      "source": [
        "# a função DataFrame.describe() mostras as estaticas mais basicas que a gente precisa\n",
        "print(combustiveis_df.describe())"
      ],
      "metadata": {
        "id": "AEZrfQNSUTvy"
      },
      "execution_count": null,
      "outputs": []
    },
    {
      "cell_type": "code",
      "source": [
        "# Filtrar apenas uma coluna\n",
        "display(combustiveis_df['Revenda'])"
      ],
      "metadata": {
        "id": "Ha_loXFZW8RB"
      },
      "execution_count": null,
      "outputs": []
    },
    {
      "cell_type": "code",
      "source": [
        "# Aqui criamos um novo DataFrame apenas com a coluna que eu quero \n",
        "ca_df = combustiveis_df[['Revenda','Municipio','Valor de Compra','Produto']]\n",
        "display(ca_df)"
      ],
      "metadata": {
        "id": "_EDbyAzeZ5no"
      },
      "execution_count": null,
      "outputs": []
    },
    {
      "cell_type": "code",
      "source": [
        "# Usado para filtar por linhas, nesse exemplo mostra apenas a 4 linha\n",
        "display(ca_df.loc[4])"
      ],
      "metadata": {
        "id": "iqk8VDI3bUR5"
      },
      "execution_count": null,
      "outputs": []
    },
    {
      "cell_type": "code",
      "source": [
        "# Exibe da 10a. linha até a 20a.\n",
        "display(ca_df.loc[10:20])"
      ],
      "metadata": {
        "id": "bnaapfrZdXU9"
      },
      "execution_count": null,
      "outputs": []
    },
    {
      "cell_type": "code",
      "source": [
        "# Criar um DataFrame gas_df contendo apenas as 4 colunas(Revenda, Municipio, Produtos, Valor de Venda).\n",
        "# Somente com combustivel sendo Gasolinha e exibir na tela.\n",
        "\n",
        "gas_df =ca_df.loc[ca_df['Produto']=='GASOLINA']\n",
        "display(gas_df)"
      ],
      "metadata": {
        "id": "P8tOFnbveMcA"
      },
      "execution_count": null,
      "outputs": []
    },
    {
      "cell_type": "code",
      "source": [
        "# Exibe qual é o posto e municipio da gasolina mais cara do país\n",
        "\n",
        "display(gas_df[['Revenda','Municipio','Valor de Venda']].max())"
      ],
      "metadata": {
        "id": "I5n8-PK_hh43"
      },
      "execution_count": null,
      "outputs": []
    }
  ]
}